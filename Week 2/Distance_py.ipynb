{
  "nbformat": 4,
  "nbformat_minor": 0,
  "metadata": {
    "colab": {
      "provenance": [],
      "authorship_tag": "ABX9TyMH0aQi3K8Z2/6hZO7KAP4O",
      "include_colab_link": true
    },
    "kernelspec": {
      "name": "python3",
      "display_name": "Python 3"
    },
    "language_info": {
      "name": "python"
    }
  },
  "cells": [
    {
      "cell_type": "markdown",
      "metadata": {
        "id": "view-in-github",
        "colab_type": "text"
      },
      "source": [
        "<a href=\"https://colab.research.google.com/github/luckycharmz1/CIS-050/blob/main/Distance_py.ipynb\" target=\"_parent\"><img src=\"https://colab.research.google.com/assets/colab-badge.svg\" alt=\"Open In Colab\"/></a>"
      ]
    },
    {
      "cell_type": "code",
      "execution_count": null,
      "metadata": {
        "colab": {
          "base_uri": "https://localhost:8080/"
        },
        "id": "vEeORA-Zmk5z",
        "outputId": "e614d00d-16d7-48c9-d28c-8864e4d27269"
      },
      "outputs": [
        {
          "output_type": "stream",
          "name": "stdout",
          "text": [
            "Enter the x-coordinate of the first point:3\n",
            "Enter the y-coordinate of the first point4\n",
            "Enter the x-coordinate of the second point:5\n",
            "Enter the y-coordinate of the second point:6\n",
            "The distance between the two points is:6.665144142690226\n"
          ]
        }
      ],
      "source": [
        "x1 = float(input(\"Enter the x-coordinate of the first point:\"))\n",
        "y1 = float(input(\"Enter the y-coordinate of the first point\"))\n",
        "x2 = float(input(\"Enter the x-coordinate of the second point:\"))\n",
        "y2 = float(input(\"Enter the y-coordinate of the second point:\"))\n",
        "\n",
        "distance = ((x2-x1)**2 + (y2-y1)**2**0.5)\n",
        "\n",
        "print(f\"The distance between the two points is:{distance}\")"
      ]
    }
  ]
}